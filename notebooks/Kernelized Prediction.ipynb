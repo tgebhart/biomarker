{
 "cells": [
  {
   "cell_type": "markdown",
   "metadata": {},
   "source": [
    "Look at whether any samples' predictions are improved by the inclusion of X10-X17."
   ]
  },
  {
   "cell_type": "code",
   "execution_count": 1,
   "metadata": {},
   "outputs": [
    {
     "name": "stdout",
     "output_type": "stream",
     "text": [
      "data_collection\n"
     ]
    }
   ],
   "source": [
    "%matplotlib notebook\n",
    "%load_ext autoreload\n",
    "%autoreload 2\n",
    "\n",
    "from biomarker.models import Ensemble\n",
    "from biomarker.data_collection import *\n",
    "from sklearn import svm\n",
    "from sklearn.model_selection import cross_val_score\n",
    "\n",
    "\n",
    "import numpy as np"
   ]
  },
  {
   "cell_type": "code",
   "execution_count": 2,
   "metadata": {},
   "outputs": [],
   "source": [
    "EXCLUDE_KEYS = [206, 205, 184, 183, 82, 81, 45]\n",
    "TEST_KEYS = [218, 217, 216]\n",
    "C = 30\n",
    "EPSILON = 0.001\n",
    "GAMMA = 0.1"
   ]
  },
  {
   "cell_type": "code",
   "execution_count": null,
   "metadata": {},
   "outputs": [],
   "source": []
  },
  {
   "cell_type": "code",
   "execution_count": 3,
   "metadata": {},
   "outputs": [
    {
     "name": "stdout",
     "output_type": "stream",
     "text": [
      "[3, 9]\n",
      "Test indices:  [191, 192, 193]\n"
     ]
    }
   ],
   "source": [
    "excel = parse_master_file(exclude_keys=EXCLUDE_KEYS)\n",
    "test_idxs = list(excel[np.isin(excel['Key'], TEST_KEYS)].index)\n",
    "print('Test indices: ', test_idxs)\n",
    "# alter the weighting of low logK values:\n",
    "# excel = duplicate_master(excel, 2, 2, how='lt')\n",
    "L = get_filename_list(excel['Associated data'])"
   ]
  },
  {
   "cell_type": "code",
   "execution_count": 4,
   "metadata": {},
   "outputs": [
    {
     "data": {
      "text/html": [
       "<div>\n",
       "<style scoped>\n",
       "    .dataframe tbody tr th:only-of-type {\n",
       "        vertical-align: middle;\n",
       "    }\n",
       "\n",
       "    .dataframe tbody tr th {\n",
       "        vertical-align: top;\n",
       "    }\n",
       "\n",
       "    .dataframe thead th {\n",
       "        text-align: right;\n",
       "    }\n",
       "</style>\n",
       "<table border=\"1\" class=\"dataframe\">\n",
       "  <thead>\n",
       "    <tr style=\"text-align: right;\">\n",
       "      <th></th>\n",
       "      <th>Input</th>\n",
       "      <th>Key</th>\n",
       "      <th>Associated data</th>\n",
       "      <th>X10: Category Method</th>\n",
       "      <th>X11: Temperature (K)</th>\n",
       "      <th>X12: [Salt*Valency]</th>\n",
       "      <th>X13: Category Salt type</th>\n",
       "      <th>X14: [Buffer] (mM)</th>\n",
       "      <th>X15: pH</th>\n",
       "      <th>X16: CI #</th>\n",
       "      <th>X17: CI</th>\n",
       "      <th>Unnamed: 11</th>\n",
       "      <th>Output: logK</th>\n",
       "      <th>Output: logKbucket</th>\n",
       "    </tr>\n",
       "  </thead>\n",
       "  <tbody>\n",
       "    <tr>\n",
       "      <th>0</th>\n",
       "      <td>1</td>\n",
       "      <td>17</td>\n",
       "      <td>SB_156</td>\n",
       "      <td>A</td>\n",
       "      <td>NaN</td>\n",
       "      <td>NaN</td>\n",
       "      <td>NaN</td>\n",
       "      <td>NaN</td>\n",
       "      <td>NaN</td>\n",
       "      <td>NaN</td>\n",
       "      <td>NaN</td>\n",
       "      <td>NaN</td>\n",
       "      <td>4.39</td>\n",
       "      <td>1</td>\n",
       "    </tr>\n",
       "    <tr>\n",
       "      <th>1</th>\n",
       "      <td>2</td>\n",
       "      <td>18</td>\n",
       "      <td>SB_156</td>\n",
       "      <td>B</td>\n",
       "      <td>NaN</td>\n",
       "      <td>NaN</td>\n",
       "      <td>NaN</td>\n",
       "      <td>50.0</td>\n",
       "      <td>4.74</td>\n",
       "      <td>NaN</td>\n",
       "      <td>NaN</td>\n",
       "      <td>NaN</td>\n",
       "      <td>4.39</td>\n",
       "      <td>1</td>\n",
       "    </tr>\n",
       "    <tr>\n",
       "      <th>2</th>\n",
       "      <td>3</td>\n",
       "      <td>19</td>\n",
       "      <td>SB_158</td>\n",
       "      <td>A</td>\n",
       "      <td>NaN</td>\n",
       "      <td>NaN</td>\n",
       "      <td>NaN</td>\n",
       "      <td>NaN</td>\n",
       "      <td>NaN</td>\n",
       "      <td>1.0</td>\n",
       "      <td>CI_2</td>\n",
       "      <td>NaN</td>\n",
       "      <td>4.63</td>\n",
       "      <td>1</td>\n",
       "    </tr>\n",
       "    <tr>\n",
       "      <th>3</th>\n",
       "      <td>4</td>\n",
       "      <td>20</td>\n",
       "      <td>SB_159</td>\n",
       "      <td>A</td>\n",
       "      <td>NaN</td>\n",
       "      <td>NaN</td>\n",
       "      <td>NaN</td>\n",
       "      <td>NaN</td>\n",
       "      <td>NaN</td>\n",
       "      <td>2.0</td>\n",
       "      <td>CI_1</td>\n",
       "      <td>NaN</td>\n",
       "      <td>4.80</td>\n",
       "      <td>1</td>\n",
       "    </tr>\n",
       "    <tr>\n",
       "      <th>4</th>\n",
       "      <td>5</td>\n",
       "      <td>21</td>\n",
       "      <td>SB_160</td>\n",
       "      <td>A</td>\n",
       "      <td>NaN</td>\n",
       "      <td>NaN</td>\n",
       "      <td>NaN</td>\n",
       "      <td>NaN</td>\n",
       "      <td>NaN</td>\n",
       "      <td>2.0</td>\n",
       "      <td>CI_2</td>\n",
       "      <td>NaN</td>\n",
       "      <td>4.90</td>\n",
       "      <td>1</td>\n",
       "    </tr>\n",
       "  </tbody>\n",
       "</table>\n",
       "</div>"
      ],
      "text/plain": [
       "   Input  Key Associated data X10: Category Method  X11: Temperature (K)  \\\n",
       "0      1   17          SB_156                    A                   NaN   \n",
       "1      2   18          SB_156                    B                   NaN   \n",
       "2      3   19          SB_158                    A                   NaN   \n",
       "3      4   20          SB_159                    A                   NaN   \n",
       "4      5   21          SB_160                    A                   NaN   \n",
       "\n",
       "   X12: [Salt*Valency]  X13: Category Salt type  X14: [Buffer] (mM)  X15: pH  \\\n",
       "0                  NaN                      NaN                 NaN      NaN   \n",
       "1                  NaN                      NaN                50.0     4.74   \n",
       "2                  NaN                      NaN                 NaN      NaN   \n",
       "3                  NaN                      NaN                 NaN      NaN   \n",
       "4                  NaN                      NaN                 NaN      NaN   \n",
       "\n",
       "   X16: CI # X17: CI   Unnamed: 11  Output: logK  Output: logKbucket  \n",
       "0        NaN      NaN          NaN          4.39                   1  \n",
       "1        NaN      NaN          NaN          4.39                   1  \n",
       "2        1.0     CI_2          NaN          4.63                   1  \n",
       "3        2.0     CI_1          NaN          4.80                   1  \n",
       "4        2.0     CI_2          NaN          4.90                   1  "
      ]
     },
     "execution_count": 4,
     "metadata": {},
     "output_type": "execute_result"
    }
   ],
   "source": [
    "excel.head()"
   ]
  },
  {
   "cell_type": "code",
   "execution_count": null,
   "metadata": {},
   "outputs": [],
   "source": []
  },
  {
   "cell_type": "code",
   "execution_count": 5,
   "metadata": {},
   "outputs": [],
   "source": [
    "x1 = create_x1_matrix(L)\n",
    "x4 = create_x4_matrix(L)\n",
    "x5 = create_x5_matrix(L)\n",
    "x6 = create_x6_matrix(L)\n",
    "x7 = create_x7_matrix(L)\n",
    "\n",
    "y = excel['Output: logK'].values\n",
    "y_buck = excel['Output: logKbucket'].values"
   ]
  },
  {
   "cell_type": "code",
   "execution_count": null,
   "metadata": {},
   "outputs": [],
   "source": []
  },
  {
   "cell_type": "code",
   "execution_count": 6,
   "metadata": {},
   "outputs": [],
   "source": [
    "x10_x17 = excel.iloc[:, 3:-2]\n",
    "master, master_names = prepare_master(x10_x17)"
   ]
  },
  {
   "cell_type": "code",
   "execution_count": null,
   "metadata": {},
   "outputs": [],
   "source": []
  },
  {
   "cell_type": "code",
   "execution_count": 7,
   "metadata": {},
   "outputs": [
    {
     "data": {
      "text/plain": [
       "(196, 1050)"
      ]
     },
     "execution_count": 7,
     "metadata": {},
     "output_type": "execute_result"
    }
   ],
   "source": [
    "# X = np.hstack((x1,x4,x5,x6,x7,master))\n",
    "X = np.hstack((x1,x4,x5,x6,x7))\n",
    "X.shape"
   ]
  },
  {
   "cell_type": "code",
   "execution_count": 8,
   "metadata": {},
   "outputs": [],
   "source": [
    "X_train = np.delete(X, test_idxs, axis=0)\n",
    "\n",
    "# y_train = y[:-2]\n",
    "y_train = np.delete(y, test_idxs, axis=0)\n",
    "y_buck_train = np.delete(y_buck, test_idxs, axis=0)"
   ]
  },
  {
   "cell_type": "code",
   "execution_count": null,
   "metadata": {},
   "outputs": [],
   "source": []
  },
  {
   "cell_type": "code",
   "execution_count": 9,
   "metadata": {},
   "outputs": [
    {
     "name": "stdout",
     "output_type": "stream",
     "text": [
      "[6.29753103 6.29753103 6.29753103] [6.54 1.99 1.99]\n"
     ]
    }
   ],
   "source": [
    "# Regression predictions\n",
    "clf = svm.SVR(kernel='rbf', epsilon=EPSILON, C=C, gamma=GAMMA)\n",
    "clf.fit(X_train, y_train)\n",
    "prediction = clf.predict(X[test_idxs])\n",
    "print(prediction, y[test_idxs])"
   ]
  },
  {
   "cell_type": "code",
   "execution_count": null,
   "metadata": {},
   "outputs": [],
   "source": []
  },
  {
   "cell_type": "code",
   "execution_count": 10,
   "metadata": {},
   "outputs": [
    {
     "data": {
      "text/plain": [
       "0.7862644415917843"
      ]
     },
     "execution_count": 10,
     "metadata": {},
     "output_type": "execute_result"
    }
   ],
   "source": [
    "# Classification cross-validation\n",
    "clf = svm.SVC(decision_function_shape='ovo', C=C, gamma=GAMMA)\n",
    "cross_val_score(clf, X, y_buck, cv=5).mean()"
   ]
  },
  {
   "cell_type": "code",
   "execution_count": null,
   "metadata": {},
   "outputs": [],
   "source": []
  },
  {
   "cell_type": "code",
   "execution_count": 11,
   "metadata": {},
   "outputs": [
    {
     "name": "stdout",
     "output_type": "stream",
     "text": [
      "Mean Cross-Validation Score: -2.087047898125759, Stddev: 0.5968168130546884\n"
     ]
    }
   ],
   "source": [
    "# Regression cross-validation\n",
    "clf = svm.SVR(kernel='rbf', epsilon=EPSILON, C=C, gamma=GAMMA)\n",
    "cvs = cross_val_score(clf, X, y, cv=5, scoring='neg_mean_absolute_error')\n",
    "print('Mean Cross-Validation Score: {}, Stddev: {}'.format(cvs.mean(), cvs.std()))"
   ]
  },
  {
   "cell_type": "code",
   "execution_count": 12,
   "metadata": {},
   "outputs": [
    {
     "data": {
      "text/plain": [
       "array([[-1.90606250e+00, -1.66612500e+00, -1.49615625e+00,\n",
       "        -1.39635937e+00, -7.46648437e-01, -2.99870000e+01,\n",
       "         3.00000000e+01,  6.21828125e-01,  3.00000000e+01,\n",
       "         3.00000000e+01,  3.00000000e+01, -3.00000000e+01,\n",
       "        -3.00000000e+01, -3.00000000e+01,  3.00000000e+01,\n",
       "        -3.00000000e+01, -3.00000000e+01, -3.00000000e+01,\n",
       "        -3.00000000e+01,  3.00000000e+01,  2.87813750e+01,\n",
       "         3.00000000e+01,  9.61414062e-01, -2.89470000e+01,\n",
       "         3.00000000e+01,  1.28164062e+00,  1.65164062e+00,\n",
       "         2.01100000e+00,  2.21187500e+00,  2.65142187e+00,\n",
       "         3.00000000e+01, -2.70463594e+01,  5.93143750e+00,\n",
       "         3.00000000e+01, -2.46670625e+01,  5.99093750e+00,\n",
       "        -1.41667188e+00, -8.16648437e-01,  5.10000000e-02,\n",
       "        -2.94561250e+01, -3.00000000e+01,  3.00000000e+01,\n",
       "         3.00000000e+01,  3.00000000e+01, -3.00000000e+01,\n",
       "         1.00141406e+00,  3.00000000e+01, -3.00000000e+01,\n",
       "         6.51843750e-01,  3.00000000e+01, -2.95765781e+01,\n",
       "         1.61812500e-01,  3.00000000e+01, -3.00000000e+01,\n",
       "        -7.87000000e-01, -3.00000000e+01,  2.93618125e+01,\n",
       "        -2.05635937e+00, -1.46706250e+00,  7.41437500e-01,\n",
       "        -1.21612500e+00, -1.34657812e+00, -3.76657812e+00,\n",
       "        -2.45657812e+00, -2.36770625e+01,  3.00000000e+01,\n",
       "         4.82642188e+00, -2.29170625e+01,  3.00000000e+01,\n",
       "         3.64181250e+00,  3.48142188e+00,  8.00193750e+00,\n",
       "         4.06181250e+00,  8.58140625e+00,  7.70187500e+00,\n",
       "        -1.21612500e+00, -2.96671875e-01, -2.34632813e+00,\n",
       "         2.09093750e+00,  4.17500000e-02, -1.18657813e+00,\n",
       "        -1.76657813e+00,  4.11843750e-01, -2.85706250e+00,\n",
       "        -2.16187500e-01,  3.31000000e-01,  8.41875000e-01,\n",
       "         7.81250000e-01, -2.20656250e+00,  3.00000000e+01,\n",
       "         2.78017656e+01, -3.00000000e+01, -3.00000000e+01,\n",
       "        -1.34618750e+00,  8.01812500e-01,  8.31375000e-01,\n",
       "         7.81250000e-01,  3.61421875e-01,  8.61250000e-01,\n",
       "         9.31343750e-01, -1.99657812e+00, -1.99656250e+00,\n",
       "        -7.76750000e-01, -7.46578125e-01, -5.36578125e-01,\n",
       "        -4.87000000e-01, -1.27000000e-01, -4.61875000e-02,\n",
       "        -4.67500000e-02,  7.41421875e-01,  9.31375000e-01,\n",
       "         1.08093750e+00,  1.81142187e+00,  1.95142188e+00,\n",
       "         2.19130469e+00,  2.36141406e+00,  2.36176563e+00,\n",
       "         3.41179688e+00,  4.02142188e+00,  1.42187500e-03,\n",
       "         1.37500000e-03, -3.82693750e+00, -2.18700000e+00,\n",
       "        -3.37617187e+00, -5.29612500e+00, -1.26578125e-01,\n",
       "        -2.74621875e+00,  1.74093750e+00, -1.29612500e+00,\n",
       "        -3.44657812e+00,  7.81875000e-01, -1.91662500e+00,\n",
       "        -2.37612500e+00, -4.60706250e+00, -3.00000000e+01,\n",
       "        -3.66562500e-01,  3.00000000e+01, -3.00000000e+01,\n",
       "         2.66319375e+01,  2.62210000e+01, -3.00000000e+01,\n",
       "        -3.00000000e+01,  2.63018125e+01, -4.29656250e+00,\n",
       "        -3.86656250e+00, -3.65700000e+00, -4.12612500e+00,\n",
       "        -4.74658594e+00,  3.00000000e+01, -3.00000000e+01,\n",
       "        -1.91625000e+00,  3.00000000e+01, -3.02635937e+00,\n",
       "        -3.00000000e+01, -3.00000000e+01,  2.93414062e+01,\n",
       "        -3.00000000e+01,  2.97418750e+01,  2.85914219e+01,\n",
       "        -3.00000000e+01,  2.81118750e+01, -3.00000000e+01,\n",
       "        -4.87000000e-01, -4.56125000e-01,  3.91671875e-01,\n",
       "         9.30937500e-01, -1.53662500e+00, -3.72615625e+00,\n",
       "        -1.39612500e+00, -3.21656250e+00,  2.31142188e+00,\n",
       "        -4.67500000e-02, -3.76187500e-01,  2.81093750e+00,\n",
       "         8.41328125e-01,  5.30937500e-01, -3.46187500e-01,\n",
       "        -9.65625000e-02, -1.18618750e+00, -3.66562500e-01,\n",
       "        -1.99612500e+00,  3.41134375e+00,  4.48093750e+00,\n",
       "         1.93142188e+00,  1.65142187e+00, -7.76203125e-01,\n",
       "         2.44132813e+00,  1.84187500e+00, -2.29621875e+00,\n",
       "        -4.30693750e+00, -4.30669531e+00]])"
      ]
     },
     "execution_count": 12,
     "metadata": {},
     "output_type": "execute_result"
    }
   ],
   "source": [
    "fitted = clf.fit(X_train, y_train)\n",
    "fitted.dual_coef_"
   ]
  },
  {
   "cell_type": "code",
   "execution_count": 13,
   "metadata": {},
   "outputs": [
    {
     "name": "stdout",
     "output_type": "stream",
     "text": [
      "Feature: 0\n",
      "(193, 250)\n",
      "[6.29751966 6.29751966 6.29751966] [6.54 1.99 1.99]\n",
      "Mean Cross-Validation Score: -2.0870453812438625, Stddev: 0.5968145472049823\n",
      "Feature: 1\n",
      "(193, 150)\n",
      "[6.32214365 6.32214365 6.32214365] [6.54 1.99 1.99]\n",
      "Mean Cross-Validation Score: -2.0865043204969607, Stddev: 0.5949758771406073\n",
      "Feature: 2\n",
      "(193, 200)\n",
      "[6.08829291 6.08829291 6.09394036] [6.54 1.99 1.99]\n",
      "Mean Cross-Validation Score: -1.8692286137134073, Stddev: 0.4838217734152629\n",
      "Feature: 3\n",
      "(193, 300)\n",
      "[6.24971834 6.24971834 6.24971834] [6.54 1.99 1.99]\n",
      "Mean Cross-Validation Score: -2.0307575505329476, Stddev: 0.5749235437219055\n",
      "Feature: 4\n",
      "(193, 150)\n",
      "[6.25317197 6.25317197 6.25317197] [6.54 1.99 1.99]\n",
      "Mean Cross-Validation Score: -2.014820208853879, Stddev: 0.5499397816629243\n"
     ]
    }
   ],
   "source": [
    "# Find the predictive subspace\n",
    "feat_choices = [x1, x4, x5, x6, x7]\n",
    "for i in range(len(feat_choices)):\n",
    "    print('Feature: {}'.format(i))\n",
    "    X = feat_choices[i]\n",
    "    X_train = np.delete(X, test_idxs, axis=0)\n",
    "    print(X_train.shape)\n",
    "\n",
    "    clf = svm.SVR(kernel='rbf', epsilon=EPSILON, C=C, gamma=GAMMA)\n",
    "    clf.fit(X_train, y_train)\n",
    "    prediction = clf.predict(X[test_idxs])\n",
    "    print(prediction, y[test_idxs])\n",
    "    \n",
    "    clf = svm.SVR(kernel='rbf', epsilon=EPSILON, C=C, gamma=GAMMA)\n",
    "    cvs = cross_val_score(clf, X, y, cv=5, scoring='neg_mean_absolute_error')\n",
    "    print('Mean Cross-Validation Score: {}, Stddev: {}'.format(cvs.mean(), cvs.std()))"
   ]
  },
  {
   "cell_type": "code",
   "execution_count": null,
   "metadata": {},
   "outputs": [],
   "source": []
  },
  {
   "cell_type": "code",
   "execution_count": null,
   "metadata": {},
   "outputs": [],
   "source": []
  }
 ],
 "metadata": {
  "kernelspec": {
   "display_name": "Python 3",
   "language": "python",
   "name": "python3"
  },
  "language_info": {
   "codemirror_mode": {
    "name": "ipython",
    "version": 3
   },
   "file_extension": ".py",
   "mimetype": "text/x-python",
   "name": "python",
   "nbconvert_exporter": "python",
   "pygments_lexer": "ipython3",
   "version": "3.6.4"
  }
 },
 "nbformat": 4,
 "nbformat_minor": 2
}
