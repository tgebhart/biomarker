{
 "cells": [
  {
   "cell_type": "code",
   "execution_count": 1,
   "metadata": {},
   "outputs": [
    {
     "name": "stdout",
     "output_type": "stream",
     "text": [
      "Cython not found--WassersteinDistance not available\n",
      "Gudhi not found--GraphInducedComplex not available\n",
      "data_collection\n"
     ]
    }
   ],
   "source": [
    "%load_ext autoreload\n",
    "%autoreload 2\n",
    "%matplotlib inline\n",
    "\n",
    "import numpy as np\n",
    "import matplotlib.pyplot as plt\n",
    "from mpl_toolkits.mplot3d import Axes3D\n",
    "from scipy.spatial.distance import pdist\n",
    "from sklearn import metrics\n",
    "from sklearn.metrics.pairwise import rbf_kernel\n",
    "from sklearn.metrics.pairwise import linear_kernel\n",
    "from sklearn.model_selection import cross_val_score\n",
    "from sklearn.gaussian_process import GaussianProcessRegressor\n",
    "from sklearn.kernel_ridge import KernelRidge\n",
    "\n",
    "from sklearn import svm\n",
    "\n",
    "import dionysus as d\n",
    "import sklearn_tda as tda\n",
    "\n",
    "from biomarker.data_collection import *"
   ]
  },
  {
   "cell_type": "code",
   "execution_count": 2,
   "metadata": {},
   "outputs": [],
   "source": [
    "EXCLUDE_KEYS = [206, 205, 184, 183, 82, 81, 45]\n",
    "TEST_KEYS = [217, 216]#, 215, 214, 213, 212, 211, 210, 209]\n",
    "NUM_TEST = 10\n",
    "SIGMA = 1\n",
    "\n",
    "C = 1\n",
    "EPSILON = 0.1\n",
    "GAMMA = 0.1\n",
    "LIM = 5\n",
    "MUL = 10"
   ]
  },
  {
   "cell_type": "code",
   "execution_count": 3,
   "metadata": {},
   "outputs": [],
   "source": [
    "def compute_diagram(points, k=3):\n",
    "    r = np.max(pdist(points, 'euclidean'))\n",
    "    f = d.fill_rips(points, k, r)\n",
    "    m = d.homology_persistence(f)\n",
    "    return d.init_diagrams(m, f)\n",
    "\n",
    "def get_max_diag_dim(dgms, h=1):\n",
    "    m = 0\n",
    "    for d in dgms:\n",
    "        n = len(d[h])\n",
    "        if n > m:\n",
    "            m = n\n",
    "    return m\n",
    "\n",
    "def kernelize_diagrams_rbf(dgms, h=1, sigma=SIGMA, default=10):\n",
    "    D = np.zeros(shape=(len(dgms), len(dgms)))\n",
    "    for i in range(len(dgms)):\n",
    "        print('step: ', i)\n",
    "        for j in range(len(dgms)):\n",
    "            if i == j:\n",
    "                D[i,j] = 0.0\n",
    "            else:\n",
    "                xi = np.zeros(((len(dgms[i][h]) if len(dgms[i][h]) > len(dgms[j][h]) else len(dgms[j][h])), 2))\n",
    "                xj = np.zeros(xi.shape)\n",
    "                if xj.shape[0] > 0:\n",
    "                    for ip in range(len(dgms[i][h])):\n",
    "                        xi[ip,0] = dgms[i][h][ip].birth\n",
    "                        xi[ip,1] = dgms[i][h][ip].death\n",
    "                    for jp in range(len(dgms[j][h])):\n",
    "                        xj[jp,0] = dgms[j][h][ip].birth\n",
    "                        xj[jp,1] = dgms[j][h][ip].death\n",
    "                    xi[xi[:,1] >= 1E108] = 0\n",
    "                    xj[xj[:,1] >= 1E108] = 0\n",
    "                    D[i,j] = np.exp(np.power((np.linalg.norm(xi - xj, 2)), 2)/(2*sigma))\n",
    "    #                 D[D >= 1E108] = 0\n",
    "                else:\n",
    "                    D[i,j] = 0\n",
    "                D = np.nan_to_num(D)\n",
    "    return D\n",
    "\n",
    "def kernelize_diagrams(dgms, h=1, sigma=SIGMA):\n",
    "    D = np.zeros(shape=(len(dgms), len(dgms)))\n",
    "    for i in range(len(dgms)):\n",
    "        print('step: ', i)\n",
    "        for j in range(len(dgms)):\n",
    "            if i == j:\n",
    "                D[i,j] = 0.0\n",
    "            else:\n",
    "                D[i,j] = d.bottleneck_distance(dgms[i][h], dgms[j][h])\n",
    "#                 D[i,j] = np.exp(d.wasserstein_distance(dgms[i][h], dgms[j][h], q=2)/2*sigma)\n",
    "    D = np.nan_to_num(D)\n",
    "    return D\n",
    "\n",
    "\n",
    "def compute_sample_weights(y, lim=LIM, mul=MUL, up_lim=None, up_mul=None):\n",
    "    ret = np.ones(y.shape[0])\n",
    "    for i in range(y.shape[0]):\n",
    "        v = y[i]\n",
    "        if v < lim:\n",
    "            ret[i] = np.abs(lim-v)*mul\n",
    "        if up_lim is not None:\n",
    "            if v > up_lim:\n",
    "                if up_mul is not None:\n",
    "                    ret[i] = np.abs(lim-v)*up_mul\n",
    "                else:\n",
    "                    ret[i] = np.abs(lim-v)*mul\n",
    "    return ret\n",
    "\n",
    "def create_train_test_matrices(train_keys, test_keys):\n",
    "    excel = parse_master_file(exclude_keys=EXCLUDE_KEYS)\n",
    "    test_idxs = list(excel[np.isin(excel['Key'], test_keys)].index)\n",
    "    excel_test = excel.iloc[test_idxs]\n",
    "    L_test = get_filename_list(excel_test['Associated data'])\n",
    "    y_test = excel_test['Output: logK'].values\n",
    "    y_buck_test = excel_test['Output: logKbucket'].values\n",
    "    \n",
    "    excel_train = excel.drop(test_idxs, axis=0)\n",
    "    L_train = get_filename_list(excel_train['Associated data'])\n",
    "    y_train = excel_train['Output: logK'].values\n",
    "    y_buck_train = excel_train['Output: logKbucket'].values\n",
    "    \n",
    "    x5_train, x5_dims = create_x5_matrix(L_train, return_dims=True)\n",
    "    x5_train, x5_dims = create_x5_matrix(L_train, return_dims=True)\n",
    "    x5_train, x5_dims = create_x5_matrix(L_train, return_dims=True)\n",
    "    x6_train, x6_dims = create_x6_matrix(L_train, return_dims=True)\n",
    "    x7_train, x7_dims = create_x7_matrix(L_train, return_dims=True)\n",
    "    \n",
    "    x5_test = create_x5_matrix(L_test, max_dims=x5_dims)\n",
    "    x5_test = create_x5_matrix(L_test, max_dims=x5_dims)\n",
    "    x5_test = create_x5_matrix(L_test, max_dims=x5_dims)\n",
    "    x6_test = create_x6_matrix(L_test, max_dims=x6_dims)\n",
    "    x7_test = create_x7_matrix(L_test, max_dims=x7_dims)\n",
    "    \n",
    "    x50_x57_train = excel_train.iloc[:, 3:-2]\n",
    "    master_train, master_names = prepare_master(x50_x57_train)\n",
    "    \n",
    "    x50_x57_test = excel_test.iloc[:, 3:-2]\n",
    "    master_test, master_names = prepare_master(x50_x57_test)\n",
    "    \n",
    "    X_train = np.hstack((x5_train,x5_train,x5_train,x6_train,x7_train))\n",
    "    X_test = np.hstack((x5_test, x5_test, x5_test, x6_test, x7_test))\n",
    "    \n",
    "    X = np.vstack((X_train,X_test))\n",
    "    K = rbf_kernel(X)\n",
    "    X_train = K[:len(y_train), :len(y_train)]\n",
    "    X_test = K[len(y_train):, :len(y_train)]\n",
    "    \n",
    "    return (X_train, y_train), (X_test, y_test)\n",
    "\n",
    "def create_train_test_diagram_kernels(train_keys, test_keys, h=1):\n",
    "    excel = parse_master_file(exclude_keys=EXCLUDE_KEYS)\n",
    "    test_idxs = list(excel[np.isin(excel['Key'], test_keys)].index)\n",
    "    excel_test = excel.iloc[test_idxs]\n",
    "    L_test = get_filename_list(excel_test['Associated data'])\n",
    "    y_test = excel_test['Output: logK'].values\n",
    "    y_buck_test = excel_test['Output: logKbucket'].values\n",
    "    \n",
    "    excel_train = excel.drop(test_idxs, axis=0)\n",
    "    L_train = get_filename_list(excel_train['Associated data'])\n",
    "    y_train = excel_train['Output: logK'].values\n",
    "    y_buck_train = excel_train['Output: logKbucket'].values\n",
    "    \n",
    "    print('Computing Training Diagrams')\n",
    "    diags_train = []\n",
    "    for l in L_train:\n",
    "        diags_train.append(compute_diagram(parse_x5(l)[['X', 'Y', 'Z']].values))\n",
    "    for i in range(len(diags_train)):\n",
    "        if len(diags_train[i][h]) == 0:\n",
    "            diags_train[i] = np.array([[0,0]])\n",
    "        else:\n",
    "            diags_train[i] = np.array([[pt.birth,pt.death] for pt in diags_train[i][h]])\n",
    "    \n",
    "    print('Computing Test Diagrams')\n",
    "    diags_test = []\n",
    "    for l in L_test:\n",
    "        diags_test.append(compute_diagram(parse_x5(l)[['X', 'Y', 'Z']].values))\n",
    "    for i in range(len(diags_test)):\n",
    "        if len(diags_test[i][h]) == 0:\n",
    "            diags_test[i] = np.array([[0,0]])\n",
    "        else:\n",
    "            diags_test[i] = np.array([[pt.birth,pt.death] for pt in diags_test[i][h]])\n",
    "    \n",
    "    print('Computing Kernel')\n",
    "    \n",
    "    dd = diags_train + diags_test\n",
    "    SW = tda.SlicedWassersteinKernel(num_directions=1, bandwidth=1.)\n",
    "    \n",
    "    D = SW.fit_transform(dd)\n",
    "    \n",
    "    D_train = D[:len(y_train), :len(y_train)]\n",
    "    D_test = D[len(y_train):, :len(y_train)]\n",
    "    return (D_train, y_train), (D_test, y_test)\n",
    "      \n",
    "    \n",
    "def create_test_diagram_kernels(h=1, num_directions=1, bandwidth=1.0):\n",
    "    excel = parse_master_file(exclude_keys=EXCLUDE_KEYS)\n",
    "    excel_test = excel\n",
    "    L_test = get_filename_list(excel_test['Associated data'])\n",
    "    y_test = excel_test['Output: logK'].values\n",
    "    y_buck_test = excel_test['Output: logKbucket'].values\n",
    "    \n",
    "    print('Computing Test Diagrams')\n",
    "    diags_test = []\n",
    "    for l in L_test:\n",
    "        diags_test.append(compute_diagram(parse_x5(l)[['X', 'Y', 'Z']].values))\n",
    "    for i in range(len(diags_test)):\n",
    "        if len(diags_test[i][h]) == 0:\n",
    "            diags_test[i] = np.array([[0,0]])\n",
    "        else:\n",
    "            diags_test[i] = np.array([[pt.birth,pt.death] for pt in diags_test[i][h]])\n",
    "    \n",
    "    print('Computing Kernel')\n",
    "    \n",
    "    dd = diags_test\n",
    "    SW = tda.SlicedWassersteinKernel(num_directions=num_directions, bandwidth=bandwidth)\n",
    "    \n",
    "    D = SW.fit_transform(dd)\n",
    "    \n",
    "    return (D, y_test)\n",
    "\n",
    "def get_diag(k, h=1): \n",
    "    excel = parse_master_file(exclude_keys=EXCLUDE_KEYS)\n",
    "    l = get_filename_list(excel[excel['Key'] == k]['Associated data'])[0]\n",
    "    dgm = compute_diagram(parse_x5(l)[['X', 'Y', 'Z']].values)\n",
    "    return dgm\n",
    "    \n",
    "    "
   ]
  },
  {
   "cell_type": "code",
   "execution_count": 4,
   "metadata": {},
   "outputs": [
    {
     "name": "stdout",
     "output_type": "stream",
     "text": [
      "[3, 9]\n"
     ]
    }
   ],
   "source": [
    "excel = parse_master_file(exclude_keys=EXCLUDE_KEYS).reset_index(drop=True)\n",
    "keys = excel['Key']"
   ]
  },
  {
   "cell_type": "code",
   "execution_count": null,
   "metadata": {},
   "outputs": [],
   "source": [
    "test_set = create_test_diagram_kernels(num_directions=1, bandwidth=1.0)\n",
    "D = test_set[0]\n",
    "y = test_set[1]"
   ]
  },
  {
   "cell_type": "code",
   "execution_count": null,
   "metadata": {},
   "outputs": [],
   "source": []
  },
  {
   "cell_type": "code",
   "execution_count": 5,
   "metadata": {},
   "outputs": [
    {
     "data": {
      "text/html": [
       "<div>\n",
       "<style scoped>\n",
       "    .dataframe tbody tr th:only-of-type {\n",
       "        vertical-align: middle;\n",
       "    }\n",
       "\n",
       "    .dataframe tbody tr th {\n",
       "        vertical-align: top;\n",
       "    }\n",
       "\n",
       "    .dataframe thead th {\n",
       "        text-align: right;\n",
       "    }\n",
       "</style>\n",
       "<table border=\"1\" class=\"dataframe\">\n",
       "  <thead>\n",
       "    <tr style=\"text-align: right;\">\n",
       "      <th></th>\n",
       "      <th>X10: Category Method</th>\n",
       "      <th>X11: Temperature (K)</th>\n",
       "      <th>X12: [Salt*Valency]</th>\n",
       "      <th>X13: Category Salt type</th>\n",
       "      <th>X14: [Buffer] (mM)</th>\n",
       "      <th>X15: pH</th>\n",
       "      <th>X16: CI #</th>\n",
       "      <th>X17: CI</th>\n",
       "    </tr>\n",
       "  </thead>\n",
       "  <tbody>\n",
       "    <tr>\n",
       "      <th>0</th>\n",
       "      <td>A</td>\n",
       "      <td>298.0</td>\n",
       "      <td>0</td>\n",
       "      <td>0</td>\n",
       "      <td>0</td>\n",
       "      <td>7.00</td>\n",
       "      <td>0</td>\n",
       "      <td>N</td>\n",
       "    </tr>\n",
       "    <tr>\n",
       "      <th>1</th>\n",
       "      <td>B</td>\n",
       "      <td>298.0</td>\n",
       "      <td>0</td>\n",
       "      <td>0</td>\n",
       "      <td>50</td>\n",
       "      <td>4.74</td>\n",
       "      <td>0</td>\n",
       "      <td>N</td>\n",
       "    </tr>\n",
       "    <tr>\n",
       "      <th>2</th>\n",
       "      <td>A</td>\n",
       "      <td>298.0</td>\n",
       "      <td>0</td>\n",
       "      <td>0</td>\n",
       "      <td>0</td>\n",
       "      <td>7.00</td>\n",
       "      <td>1</td>\n",
       "      <td>CI_2</td>\n",
       "    </tr>\n",
       "    <tr>\n",
       "      <th>3</th>\n",
       "      <td>A</td>\n",
       "      <td>298.0</td>\n",
       "      <td>0</td>\n",
       "      <td>0</td>\n",
       "      <td>0</td>\n",
       "      <td>7.00</td>\n",
       "      <td>2</td>\n",
       "      <td>CI_1</td>\n",
       "    </tr>\n",
       "    <tr>\n",
       "      <th>4</th>\n",
       "      <td>A</td>\n",
       "      <td>298.0</td>\n",
       "      <td>0</td>\n",
       "      <td>0</td>\n",
       "      <td>0</td>\n",
       "      <td>7.00</td>\n",
       "      <td>2</td>\n",
       "      <td>CI_2</td>\n",
       "    </tr>\n",
       "  </tbody>\n",
       "</table>\n",
       "</div>"
      ],
      "text/plain": [
       "  X10: Category Method  X11: Temperature (K)  X12: [Salt*Valency]  \\\n",
       "0                    A                 298.0                    0   \n",
       "1                    B                 298.0                    0   \n",
       "2                    A                 298.0                    0   \n",
       "3                    A                 298.0                    0   \n",
       "4                    A                 298.0                    0   \n",
       "\n",
       "   X13: Category Salt type  X14: [Buffer] (mM)  X15: pH  X16: CI # X17: CI   \n",
       "0                        0                   0     7.00          0        N  \n",
       "1                        0                  50     4.74          0        N  \n",
       "2                        0                   0     7.00          1     CI_2  \n",
       "3                        0                   0     7.00          2     CI_1  \n",
       "4                        0                   0     7.00          2     CI_2  "
      ]
     },
     "execution_count": 5,
     "metadata": {},
     "output_type": "execute_result"
    }
   ],
   "source": [
    "x10_x17 = excel.iloc[:, 3:-3]\n",
    "x10_x17.head()"
   ]
  },
  {
   "cell_type": "code",
   "execution_count": 6,
   "metadata": {},
   "outputs": [],
   "source": [
    "master, master_names = prepare_master(x10_x17)"
   ]
  },
  {
   "cell_type": "code",
   "execution_count": 9,
   "metadata": {},
   "outputs": [],
   "source": [
    "# K = rbf_kernel(master)\n",
    "# K = linear_kernel(master)\n",
    "K = master"
   ]
  },
  {
   "cell_type": "code",
   "execution_count": null,
   "metadata": {},
   "outputs": [],
   "source": [
    "D = np.hstack((D, K))"
   ]
  },
  {
   "cell_type": "code",
   "execution_count": null,
   "metadata": {},
   "outputs": [],
   "source": [
    "# train_set, test_set = create_train_test_matrices(train_keys, TEST_KEYS)\n",
    "# X_train = train_set[0]\n",
    "# X_test = test_set[0]\n",
    "# print(X_train.shape)"
   ]
  },
  {
   "cell_type": "code",
   "execution_count": null,
   "metadata": {
    "scrolled": true
   },
   "outputs": [],
   "source": [
    "Gammas = [1e-4, 1e-2, 1e-1, 1, 10, 100, 'auto']\n",
    "Cs = [0.1, 1, 10, 20, 50]\n",
    "Epsilons = [1e-5, 1e-4, 1e-2, 1e-1, 1, 10]\n",
    "num_directions = [1, 2, 3]\n",
    "bandwidths = [1.0]\n",
    "lims = [1, 2, 5, 7, 10]\n",
    "up_lims = [1, 2, 5, 7, 10]\n",
    "muls = [0.1, 1, 2, 3, 5, 10]\n",
    "up_muls = [0.1, 1, 2, 3, 5, 10]\n",
    "\n",
    "best_params = [0,0,0,0,0]\n",
    "best_score = -float('inf')\n",
    "best_cvs = None\n",
    "\n",
    "up_lim = 0\n",
    "up_mul = 0\n",
    "\n",
    "for lim in lims:\n",
    "#     for up_lim in up_lims:\n",
    "#         for up_mul in up_muls:\n",
    "    for mul in muls:\n",
    "        for gamma in Gammas:\n",
    "            for c in Cs:\n",
    "                for eps in Epsilons:\n",
    "                    clf = svm.SVR(kernel='rbf', epsilon=eps, C=c, gamma=gamma)\n",
    "                    sws = compute_sample_weights(y, lim=lim, mul=mul)\n",
    "                    cvs = cross_val_score(clf, D, y, cv=5, scoring='neg_median_absolute_error', fit_params={'sample_weight':sws})\n",
    "                    print('lim: {}, mul: {}, up_lim: {}, up_mul: {}, gamma: {}, c: {}, epsilon: {}, Mean Cross-Validation Score: {}, Stddev: {}'.format(lim, mul, up_lim, up_mul, gamma, c, eps, cvs.mean(), cvs.std()))\n",
    "                    if cvs.mean() > best_score:\n",
    "                        best_score = cvs.mean()\n",
    "                        best_cvs = cvs\n",
    "                        best_params = [gamma, c, eps, lim, mul, up_lim, up_mul]"
   ]
  },
  {
   "cell_type": "code",
   "execution_count": null,
   "metadata": {},
   "outputs": [],
   "source": []
  },
  {
   "cell_type": "code",
   "execution_count": null,
   "metadata": {},
   "outputs": [],
   "source": [
    "print(best_score, best_params)"
   ]
  },
  {
   "cell_type": "code",
   "execution_count": null,
   "metadata": {},
   "outputs": [],
   "source": [
    "Gammas = [1e-4, 1e-2, 1e-1, 1, 10, 100, 'auto']\n",
    "Cs = [0.1, 1, 10, 20, 50]\n",
    "Epsilons = [1e-5, 1e-4, 1e-2, 1e-1, 1, 10]\n",
    "num_directions = [1, 2, 3]\n",
    "bandwidths = [1.0]\n",
    "lims = [1, 2, 5, 7, 10]\n",
    "up_lims = [1, 2, 5, 7, 10]\n",
    "muls = [0.1, 1, 2, 3, 5, 10]\n",
    "up_muls = [0.1, 1, 2, 3, 5, 10]\n",
    "\n",
    "best_params = [0,0,0,0,0]\n",
    "best_score = -float('inf')\n",
    "best_cvs = None\n",
    "\n",
    "up_lim = 0\n",
    "up_mul = 0\n",
    "K = master\n",
    "\n",
    "for direction in num_directions:\n",
    "    for bandwidth in bandwidths:\n",
    "        test_set = create_test_diagram_kernels(num_directions=direction, bandwidth=1.)\n",
    "        D = test_set[0]\n",
    "        y = test_set[1]\n",
    "        K_train = np.delete(K, [191,192], axis=0)\n",
    "        K_test = K[191:193]\n",
    "        D_train = np.delete(np.delete(D, [191,192], axis=0), [191,192], axis=1)\n",
    "        D_test = np.delete(D[191:193], [191,192], axis=1)\n",
    "        y_train = np.delete(y, [191,192], 0)\n",
    "        y_test = y[191:193]\n",
    "#         D_train = np.hstack((D_train, K_train))\n",
    "#         D_test = np.hstack((D_test, K_test))\n",
    "        print(D_train.shape, D_test.shape, y_train.shape, y_test.shape)\n",
    "        for lim in lims:\n",
    "        #     for up_lim in up_lims:\n",
    "        #         for up_mul in up_muls:\n",
    "            for mul in muls:\n",
    "                for gamma in Gammas:\n",
    "                    for c in Cs:\n",
    "                        for eps in Epsilons:\n",
    "                            clf = svm.SVR(kernel='rbf', epsilon=eps, C=c, gamma=gamma)\n",
    "                            sws = compute_sample_weights(y_train, lim=lim, mul=mul)\n",
    "                            clf.fit(D_train, y_train, sample_weight=sws)\n",
    "                            cvs = cross_val_score(clf, D_train, y_train, cv=5, scoring='neg_median_absolute_error', fit_params={'sample_weight':sws})\n",
    "                            preds = clf.predict(D_test)\n",
    "                            acc = metrics.mean_absolute_error(y_test, preds)\n",
    "                            total_acc = (-acc + 10*cvs.mean())/2\n",
    "                            print('lim: {}, mul: {}, direction: {}, gamma: {}, c: {}, epsilon: {}, Median Absolute Error: {}'.format(lim, mul, direction, gamma, c, eps, total_acc))\n",
    "                            if total_acc > best_score:\n",
    "                                best_score = total_acc\n",
    "                                best_params = [gamma, c, eps, lim, mul, direction, bandwidth]"
   ]
  },
  {
   "cell_type": "code",
   "execution_count": null,
   "metadata": {},
   "outputs": [],
   "source": [
    "print(best_score, best_params)"
   ]
  },
  {
   "cell_type": "code",
   "execution_count": 22,
   "metadata": {},
   "outputs": [
    {
     "name": "stdout",
     "output_type": "stream",
     "text": [
      "[3, 9]\n",
      "Computing Test Diagrams\n",
      "Computing Kernel\n"
     ]
    }
   ],
   "source": [
    "test_set = create_test_diagram_kernels(num_directions=3, bandwidth=2., h=1)\n",
    "D = test_set[0]\n",
    "y = test_set[1]"
   ]
  },
  {
   "cell_type": "code",
   "execution_count": 23,
   "metadata": {},
   "outputs": [],
   "source": [
    "results = []\n",
    "for i in range(D.shape[0]):\n",
    "    mask = np.ones(D.shape, dtype=bool)\n",
    "    mask[i,i] = False\n",
    "    y_train = np.delete(y, i, 0)\n",
    "    y_test = y[i]\n",
    "    K_train = np.delete(K, i, axis=0)\n",
    "    K_test = K[i].reshape(1,-1)\n",
    "    D_train = np.delete(np.delete(D, i, axis=0), i, axis=1)\n",
    "    D_test = np.delete(D[i], i, axis=0).reshape(1,-1)\n",
    "    DD_train = np.hstack((D_train, K_train))\n",
    "    DD_test = np.hstack((D_test, K_test))\n",
    "    \n",
    "#     sws = compute_sample_weights(y_train, lim=3, mul=1)\n",
    "    \n",
    "    DD_train = D_train\n",
    "    DD_test = D_test\n",
    "    clf = KernelRidge(kernel='precomputed', alpha=0.001)\n",
    "#     clf = KernelRidge(kernel='linear', alpha=.001)\n",
    "\n",
    "#     clf.fit(D_train,y_train)\n",
    "#     clf = svm.SVR(kernel='precomputed', epsilon=0.01, C=10, gamma=.01)\n",
    "#     clf = svm.LinearSVR(C=1, epsilon=0.1)\n",
    "#     clf.fit(DD_train,y_train, sample_weight=sws)\n",
    "    clf.fit(DD_train,y_train)\n",
    "    prediction = clf.predict(DD_test)\n",
    "    results.append({'predicted':prediction[0], 'actual':y_test, 'key':keys[i]})"
   ]
  },
  {
   "cell_type": "code",
   "execution_count": 24,
   "metadata": {},
   "outputs": [
    {
     "name": "stdout",
     "output_type": "stream",
     "text": [
      "1.1320257212868818\n"
     ]
    },
    {
     "data": {
      "text/html": [
       "<div>\n",
       "<style scoped>\n",
       "    .dataframe tbody tr th:only-of-type {\n",
       "        vertical-align: middle;\n",
       "    }\n",
       "\n",
       "    .dataframe tbody tr th {\n",
       "        vertical-align: top;\n",
       "    }\n",
       "\n",
       "    .dataframe thead th {\n",
       "        text-align: right;\n",
       "    }\n",
       "</style>\n",
       "<table border=\"1\" class=\"dataframe\">\n",
       "  <thead>\n",
       "    <tr style=\"text-align: right;\">\n",
       "      <th></th>\n",
       "      <th>actual</th>\n",
       "      <th>key</th>\n",
       "      <th>predicted</th>\n",
       "    </tr>\n",
       "  </thead>\n",
       "  <tbody>\n",
       "    <tr>\n",
       "      <th>186</th>\n",
       "      <td>7.95</td>\n",
       "      <td>211</td>\n",
       "      <td>8.295677</td>\n",
       "    </tr>\n",
       "    <tr>\n",
       "      <th>187</th>\n",
       "      <td>5.52</td>\n",
       "      <td>212</td>\n",
       "      <td>5.289614</td>\n",
       "    </tr>\n",
       "    <tr>\n",
       "      <th>188</th>\n",
       "      <td>8.74</td>\n",
       "      <td>213</td>\n",
       "      <td>9.771896</td>\n",
       "    </tr>\n",
       "    <tr>\n",
       "      <th>189</th>\n",
       "      <td>8.14</td>\n",
       "      <td>214</td>\n",
       "      <td>7.181626</td>\n",
       "    </tr>\n",
       "    <tr>\n",
       "      <th>190</th>\n",
       "      <td>4.00</td>\n",
       "      <td>215</td>\n",
       "      <td>6.593670</td>\n",
       "    </tr>\n",
       "    <tr>\n",
       "      <th>191</th>\n",
       "      <td>6.54</td>\n",
       "      <td>216</td>\n",
       "      <td>5.281609</td>\n",
       "    </tr>\n",
       "    <tr>\n",
       "      <th>192</th>\n",
       "      <td>0.00</td>\n",
       "      <td>217</td>\n",
       "      <td>6.248009</td>\n",
       "    </tr>\n",
       "    <tr>\n",
       "      <th>193</th>\n",
       "      <td>0.00</td>\n",
       "      <td>218</td>\n",
       "      <td>6.916098</td>\n",
       "    </tr>\n",
       "    <tr>\n",
       "      <th>194</th>\n",
       "      <td>0.00</td>\n",
       "      <td>219</td>\n",
       "      <td>7.856861</td>\n",
       "    </tr>\n",
       "    <tr>\n",
       "      <th>195</th>\n",
       "      <td>0.00</td>\n",
       "      <td>220</td>\n",
       "      <td>7.750216</td>\n",
       "    </tr>\n",
       "  </tbody>\n",
       "</table>\n",
       "</div>"
      ],
      "text/plain": [
       "     actual  key  predicted\n",
       "186    7.95  211   8.295677\n",
       "187    5.52  212   5.289614\n",
       "188    8.74  213   9.771896\n",
       "189    8.14  214   7.181626\n",
       "190    4.00  215   6.593670\n",
       "191    6.54  216   5.281609\n",
       "192    0.00  217   6.248009\n",
       "193    0.00  218   6.916098\n",
       "194    0.00  219   7.856861\n",
       "195    0.00  220   7.750216"
      ]
     },
     "execution_count": 24,
     "metadata": {},
     "output_type": "execute_result"
    }
   ],
   "source": [
    "res_df = pd.DataFrame(results)\n",
    "print(np.median(np.abs(res_df['predicted'] - res_df['actual'])))\n",
    "res_df.tail(10)"
   ]
  },
  {
   "cell_type": "code",
   "execution_count": 25,
   "metadata": {},
   "outputs": [
    {
     "data": {
      "text/plain": [
       "Text(0,0.5,'Predicted logK')"
      ]
     },
     "execution_count": 25,
     "metadata": {},
     "output_type": "execute_result"
    },
    {
     "data": {
      "image/png": "[encoded data removed]",
      "text/plain": [
       "<Figure size 432x288 with 1 Axes>"
      ]
     },
     "metadata": {},
     "output_type": "display_data"
    }
   ],
   "source": [
    "plt.scatter(res_df['actual'], res_df['predicted'], color='silver')\n",
    "plt.plot([0,16],[0,16], 'r--')\n",
    "plt.plot(np.unique(res_df['actual']), np.poly1d(np.polyfit(res_df['actual'], res_df['predicted'], 1))(np.unique(res_df['actual'])), 'g--')\n",
    "plt.xlabel('Actual logK')\n",
    "plt.ylabel('Predicted logK')"
   ]
  },
  {
   "cell_type": "code",
   "execution_count": null,
   "metadata": {},
   "outputs": [],
   "source": [
    "res_df.to_csv('../data/results/actual_v_predicted_geom_x10-x17.csv', sep=',')"
   ]
  },
  {
   "cell_type": "code",
   "execution_count": 13,
   "metadata": {
    "scrolled": true
   },
   "outputs": [
    {
     "name": "stdout",
     "output_type": "stream",
     "text": [
      "[3, 9]\n",
      "Computing Test Diagrams\n",
      "Computing Kernel\n",
      "direction: 1, bandwidth: 0.1, alpha: 0.01, Median Absolute Error: -2.359053281933069\n",
      "direction: 1, bandwidth: 0.1, alpha: 0.001, Median Absolute Error: -2.5775686950683596\n",
      "direction: 1, bandwidth: 0.1, alpha: 0.0001, Median Absolute Error: -2.89295311832428\n",
      "direction: 1, bandwidth: 0.1, alpha: 1e-05, Median Absolute Error: -3.7221465759277343\n",
      "direction: 1, bandwidth: 0.1, alpha: 1e-06, Median Absolute Error: -4.988648315429687\n",
      "[3, 9]\n",
      "Computing Test Diagrams\n",
      "Computing Kernel\n",
      "direction: 1, bandwidth: 1.0, alpha: 0.01, Median Absolute Error: -2.299562390424311\n",
      "direction: 1, bandwidth: 1.0, alpha: 0.001, Median Absolute Error: -2.3232108087539673\n",
      "direction: 1, bandwidth: 1.0, alpha: 0.0001, Median Absolute Error: -2.270301296234131\n",
      "direction: 1, bandwidth: 1.0, alpha: 1e-05, Median Absolute Error: -2.5816091613769534\n",
      "direction: 1, bandwidth: 1.0, alpha: 1e-06, Median Absolute Error: -2.975840026855469\n",
      "[3, 9]\n",
      "Computing Test Diagrams\n",
      "Computing Kernel\n",
      "direction: 1, bandwidth: 2.0, alpha: 0.01, Median Absolute Error: -2.3285117271989586\n",
      "direction: 1, bandwidth: 2.0, alpha: 0.001, Median Absolute Error: -2.3608680161237716\n",
      "direction: 1, bandwidth: 2.0, alpha: 0.0001, Median Absolute Error: -2.2119951667785642\n",
      "direction: 1, bandwidth: 2.0, alpha: 1e-05, Median Absolute Error: -2.5044254150390626\n",
      "direction: 1, bandwidth: 2.0, alpha: 1e-06, Median Absolute Error: -2.651216064453125\n",
      "[3, 9]\n",
      "Computing Test Diagrams\n",
      "Computing Kernel\n",
      "direction: 2, bandwidth: 0.1, alpha: 0.01, Median Absolute Error: -2.559803161084652\n",
      "direction: 2, bandwidth: 0.1, alpha: 0.001, Median Absolute Error: -2.622607860803604\n",
      "direction: 2, bandwidth: 0.1, alpha: 0.0001, Median Absolute Error: -2.7894043011665346\n",
      "direction: 2, bandwidth: 0.1, alpha: 1e-05, Median Absolute Error: -3.4663624114990235\n",
      "direction: 2, bandwidth: 0.1, alpha: 1e-06, Median Absolute Error: -6.110061889648437\n",
      "[3, 9]\n",
      "Computing Test Diagrams\n",
      "Computing Kernel\n",
      "direction: 2, bandwidth: 1.0, alpha: 0.01, Median Absolute Error: -2.335243812657893\n",
      "direction: 2, bandwidth: 1.0, alpha: 0.001, Median Absolute Error: -2.288325613975525\n",
      "direction: 2, bandwidth: 1.0, alpha: 0.0001, Median Absolute Error: -2.511127811431885\n",
      "direction: 2, bandwidth: 1.0, alpha: 1e-05, Median Absolute Error: -2.716025512695313\n",
      "direction: 2, bandwidth: 1.0, alpha: 1e-06, Median Absolute Error: -2.871591796875\n",
      "[3, 9]\n",
      "Computing Test Diagrams\n",
      "Computing Kernel\n",
      "direction: 2, bandwidth: 2.0, alpha: 0.01, Median Absolute Error: -2.333854556053877\n",
      "direction: 2, bandwidth: 2.0, alpha: 0.001, Median Absolute Error: -2.3478720512390137\n",
      "direction: 2, bandwidth: 2.0, alpha: 0.0001, Median Absolute Error: -2.2763607330322264\n",
      "direction: 2, bandwidth: 2.0, alpha: 1e-05, Median Absolute Error: -2.4709736328125005\n",
      "direction: 2, bandwidth: 2.0, alpha: 1e-06, Median Absolute Error: -2.8222359619140627\n",
      "[3, 9]\n",
      "Computing Test Diagrams\n",
      "Computing Kernel\n",
      "direction: 3, bandwidth: 0.1, alpha: 0.01, Median Absolute Error: -2.2627082660198212\n",
      "direction: 3, bandwidth: 0.1, alpha: 0.001, Median Absolute Error: -2.331755606532097\n",
      "direction: 3, bandwidth: 0.1, alpha: 0.0001, Median Absolute Error: -2.724736550331116\n",
      "direction: 3, bandwidth: 0.1, alpha: 1e-05, Median Absolute Error: -3.434086502075195\n",
      "direction: 3, bandwidth: 0.1, alpha: 1e-06, Median Absolute Error: -6.122202270507813\n",
      "[3, 9]\n",
      "Computing Test Diagrams\n",
      "Computing Kernel\n",
      "direction: 3, bandwidth: 1.0, alpha: 0.01, Median Absolute Error: -2.3153539527133105\n",
      "direction: 3, bandwidth: 1.0, alpha: 0.001, Median Absolute Error: -2.229619614124298\n",
      "direction: 3, bandwidth: 1.0, alpha: 0.0001, Median Absolute Error: -2.2839912834167477\n",
      "direction: 3, bandwidth: 1.0, alpha: 1e-05, Median Absolute Error: -2.485995964050293\n",
      "direction: 3, bandwidth: 1.0, alpha: 1e-06, Median Absolute Error: -2.689591064453125\n",
      "[3, 9]\n",
      "Computing Test Diagrams\n",
      "Computing Kernel\n",
      "direction: 3, bandwidth: 2.0, alpha: 0.01, Median Absolute Error: -2.3103129440993073\n",
      "direction: 3, bandwidth: 2.0, alpha: 0.001, Median Absolute Error: -2.2348093400001527\n",
      "direction: 3, bandwidth: 2.0, alpha: 0.0001, Median Absolute Error: -2.1883276634216307\n",
      "direction: 3, bandwidth: 2.0, alpha: 1e-05, Median Absolute Error: -2.3548548583984377\n",
      "direction: 3, bandwidth: 2.0, alpha: 1e-06, Median Absolute Error: -2.4207435302734375\n"
     ]
    }
   ],
   "source": [
    "num_directions = [1, 2, 3]\n",
    "bandwidths = [0.1, 1.0, 2.0]\n",
    "alphas = [0.01, 0.001, 0.0001, 0.00001, 0.000001]\n",
    "best_params = [0,0,0,0,0]\n",
    "best_score = -float('inf')\n",
    "best_cvs = None\n",
    "\n",
    "for direction in num_directions:\n",
    "    for bandwidth in bandwidths:\n",
    "        test_set = create_test_diagram_kernels(num_directions=direction, bandwidth=bandwidth)\n",
    "        D = test_set[0]\n",
    "        y = test_set[1]\n",
    "        for alpha in alphas:\n",
    "            clf = KernelRidge(kernel='linear', alpha=alpha)\n",
    "            D_train = np.hstack((D, K))\n",
    "            y_train = y\n",
    "            cvs = cross_val_score(clf, D_train, y_train, cv=5, scoring='neg_median_absolute_error')\n",
    "            total_acc = cvs.mean()\n",
    "            print('direction: {}, bandwidth: {}, alpha: {}, Median Absolute Error: {}'.format(direction, bandwidth, alpha, total_acc))\n",
    "            if total_acc > best_score:\n",
    "                best_score = total_acc\n",
    "                best_params = [alpha, direction, bandwidth]"
   ]
  },
  {
   "cell_type": "code",
   "execution_count": 14,
   "metadata": {},
   "outputs": [
    {
     "data": {
      "text/plain": [
       "[0.0001, 3, 2.0]"
      ]
     },
     "execution_count": 14,
     "metadata": {},
     "output_type": "execute_result"
    }
   ],
   "source": [
    "best_params"
   ]
  },
  {
   "cell_type": "code",
   "execution_count": 15,
   "metadata": {},
   "outputs": [
    {
     "name": "stdout",
     "output_type": "stream",
     "text": [
      "[3, 9]\n"
     ]
    },
    {
     "data": {
      "image/png": "[encoded data removed]",
      "text/plain": [
       "<Figure size 432x288 with 1 Axes>"
      ]
     },
     "metadata": {},
     "output_type": "display_data"
    }
   ],
   "source": [
    "d.plot.plot_diagram(get_diag(220)[1])"
   ]
  },
  {
   "cell_type": "code",
   "execution_count": 16,
   "metadata": {},
   "outputs": [
    {
     "name": "stdout",
     "output_type": "stream",
     "text": [
      "[3, 9]\n"
     ]
    },
    {
     "data": {
      "image/png": "[encoded data removed]",
      "text/plain": [
       "<Figure size 432x288 with 1 Axes>"
      ]
     },
     "metadata": {},
     "output_type": "display_data"
    }
   ],
   "source": [
    "d.plot.plot_diagram(get_diag(217)[1])"
   ]
  },
  {
   "cell_type": "code",
   "execution_count": 17,
   "metadata": {},
   "outputs": [
    {
     "name": "stdout",
     "output_type": "stream",
     "text": [
      "[3, 9]\n"
     ]
    },
    {
     "data": {
      "image/png": "[encoded data removed]",
      "text/plain": [
       "<Figure size 432x288 with 1 Axes>"
      ]
     },
     "metadata": {},
     "output_type": "display_data"
    }
   ],
   "source": [
    "d.plot.plot_diagram(get_diag(215)[1])"
   ]
  },
  {
   "cell_type": "code",
   "execution_count": null,
   "metadata": {},
   "outputs": [],
   "source": []
  },
  {
   "cell_type": "code",
   "execution_count": 18,
   "metadata": {},
   "outputs": [
    {
     "data": {
      "text/html": [
       "<div>\n",
       "<style scoped>\n",
       "    .dataframe tbody tr th:only-of-type {\n",
       "        vertical-align: middle;\n",
       "    }\n",
       "\n",
       "    .dataframe tbody tr th {\n",
       "        vertical-align: top;\n",
       "    }\n",
       "\n",
       "    .dataframe thead th {\n",
       "        text-align: right;\n",
       "    }\n",
       "</style>\n",
       "<table border=\"1\" class=\"dataframe\">\n",
       "  <thead>\n",
       "    <tr style=\"text-align: right;\">\n",
       "      <th></th>\n",
       "      <th>actual</th>\n",
       "      <th>key</th>\n",
       "      <th>predicted</th>\n",
       "    </tr>\n",
       "  </thead>\n",
       "  <tbody>\n",
       "    <tr>\n",
       "      <th>66</th>\n",
       "      <td>12.62</td>\n",
       "      <td>87</td>\n",
       "      <td>13.469471</td>\n",
       "    </tr>\n",
       "  </tbody>\n",
       "</table>\n",
       "</div>"
      ],
      "text/plain": [
       "    actual  key  predicted\n",
       "66   12.62   87  13.469471"
      ]
     },
     "execution_count": 18,
     "metadata": {},
     "output_type": "execute_result"
    }
   ],
   "source": [
    "res_df[res_df['predicted'] == res_df['predicted'].max()]"
   ]
  },
  {
   "cell_type": "code",
   "execution_count": 19,
   "metadata": {},
   "outputs": [
    {
     "name": "stdout",
     "output_type": "stream",
     "text": [
      "[3, 9]\n"
     ]
    },
    {
     "data": {
      "image/png": "[encoded data removed]",
      "text/plain": [
       "<Figure size 432x288 with 1 Axes>"
      ]
     },
     "metadata": {},
     "output_type": "display_data"
    }
   ],
   "source": [
    "d.plot.plot_diagram(get_diag(90)[1])"
   ]
  },
  {
   "cell_type": "code",
   "execution_count": 20,
   "metadata": {},
   "outputs": [
    {
     "data": {
      "text/html": [
       "<div>\n",
       "<style scoped>\n",
       "    .dataframe tbody tr th:only-of-type {\n",
       "        vertical-align: middle;\n",
       "    }\n",
       "\n",
       "    .dataframe tbody tr th {\n",
       "        vertical-align: top;\n",
       "    }\n",
       "\n",
       "    .dataframe thead th {\n",
       "        text-align: right;\n",
       "    }\n",
       "</style>\n",
       "<table border=\"1\" class=\"dataframe\">\n",
       "  <thead>\n",
       "    <tr style=\"text-align: right;\">\n",
       "      <th></th>\n",
       "      <th>actual</th>\n",
       "      <th>key</th>\n",
       "      <th>predicted</th>\n",
       "    </tr>\n",
       "  </thead>\n",
       "  <tbody>\n",
       "    <tr>\n",
       "      <th>134</th>\n",
       "      <td>3.92</td>\n",
       "      <td>155</td>\n",
       "      <td>1.091651</td>\n",
       "    </tr>\n",
       "  </tbody>\n",
       "</table>\n",
       "</div>"
      ],
      "text/plain": [
       "     actual  key  predicted\n",
       "134    3.92  155   1.091651"
      ]
     },
     "execution_count": 20,
     "metadata": {},
     "output_type": "execute_result"
    }
   ],
   "source": [
    "res_df[res_df['predicted'] == res_df['predicted'].min()]"
   ]
  },
  {
   "cell_type": "code",
   "execution_count": 21,
   "metadata": {},
   "outputs": [
    {
     "name": "stdout",
     "output_type": "stream",
     "text": [
      "[3, 9]\n"
     ]
    },
    {
     "data": {
      "image/png": "[encoded data removed]",
      "text/plain": [
       "<Figure size 432x288 with 1 Axes>"
      ]
     },
     "metadata": {},
     "output_type": "display_data"
    }
   ],
   "source": [
    "d.plot.plot_diagram(get_diag(44)[1])"
   ]
  },
  {
   "cell_type": "code",
   "execution_count": null,
   "metadata": {},
   "outputs": [],
   "source": []
  }
 ],
 "metadata": {
  "kernelspec": {
   "display_name": "Python 3",
   "language": "python",
   "name": "python3"
  },
  "language_info": {
   "codemirror_mode": {
    "name": "ipython",
    "version": 3
   },
   "file_extension": ".py",
   "mimetype": "text/x-python",
   "name": "python",
   "nbconvert_exporter": "python",
   "pygments_lexer": "ipython3",
   "version": "3.6.4"
  }
 },
 "nbformat": 4,
 "nbformat_minor": 2
}
