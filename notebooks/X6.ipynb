{
 "cells": [
  {
   "cell_type": "code",
   "execution_count": 1,
   "metadata": {},
   "outputs": [
    {
     "name": "stdout",
     "output_type": "stream",
     "text": [
      "Cython not found--WassersteinDistance not available\n",
      "Gudhi not found--GraphInducedComplex not available\n",
      "data_collection\n"
     ]
    }
   ],
   "source": [
    "%load_ext autoreload\n",
    "%autoreload 2\n",
    "%matplotlib inline\n",
    "\n",
    "import numpy as np\n",
    "import matplotlib.pyplot as plt\n",
    "from mpl_toolkits.mplot3d import Axes3D\n",
    "from scipy.spatial.distance import pdist\n",
    "from sklearn import metrics\n",
    "from sklearn.metrics.pairwise import rbf_kernel\n",
    "from sklearn.metrics.pairwise import linear_kernel\n",
    "from sklearn.model_selection import cross_val_score\n",
    "from sklearn.gaussian_process import GaussianProcessRegressor\n",
    "from sklearn.tree import DecisionTreeRegressor\n",
    "from sklearn import linear_model\n",
    "from sklearn.kernel_ridge import KernelRidge\n",
    "import sklearn\n",
    "\n",
    "from sklearn import svm\n",
    "\n",
    "import dionysus as d\n",
    "import sklearn_tda as tda\n",
    "\n",
    "from biomarker.data_collection import *"
   ]
  },
  {
   "cell_type": "code",
   "execution_count": 2,
   "metadata": {},
   "outputs": [],
   "source": [
    "EXCLUDE_KEYS = [206, 205, 184, 183, 82, 81, 45]\n",
    "TEST_KEYS = [217, 216]#, 215, 214, 213, 212, 211, 210, 209]"
   ]
  },
  {
   "cell_type": "code",
   "execution_count": 3,
   "metadata": {
    "scrolled": true
   },
   "outputs": [
    {
     "name": "stdout",
     "output_type": "stream",
     "text": [
      "[3, 9]\n"
     ]
    }
   ],
   "source": [
    "excel = parse_master_file(exclude_keys=EXCLUDE_KEYS).reset_index(drop=True)\n",
    "keys = excel['Key']\n",
    "L = get_filename_list(excel['Associated data'])"
   ]
  },
  {
   "cell_type": "code",
   "execution_count": 4,
   "metadata": {},
   "outputs": [
    {
     "data": {
      "text/html": [
       "<div>\n",
       "<style scoped>\n",
       "    .dataframe tbody tr th:only-of-type {\n",
       "        vertical-align: middle;\n",
       "    }\n",
       "\n",
       "    .dataframe tbody tr th {\n",
       "        vertical-align: top;\n",
       "    }\n",
       "\n",
       "    .dataframe thead th {\n",
       "        text-align: right;\n",
       "    }\n",
       "</style>\n",
       "<table border=\"1\" class=\"dataframe\">\n",
       "  <thead>\n",
       "    <tr style=\"text-align: right;\">\n",
       "      <th></th>\n",
       "      <th>X10: Category Method</th>\n",
       "      <th>X11: Temperature (K)</th>\n",
       "      <th>X12: [Salt*Valency]</th>\n",
       "      <th>X13: Category Salt type</th>\n",
       "      <th>X14: [Buffer] (mM)</th>\n",
       "      <th>X15: pH</th>\n",
       "      <th>X16: CI #</th>\n",
       "      <th>X17: CI</th>\n",
       "    </tr>\n",
       "  </thead>\n",
       "  <tbody>\n",
       "    <tr>\n",
       "      <th>0</th>\n",
       "      <td>A</td>\n",
       "      <td>298.0</td>\n",
       "      <td>0</td>\n",
       "      <td>0</td>\n",
       "      <td>0</td>\n",
       "      <td>7.00</td>\n",
       "      <td>0</td>\n",
       "      <td>N</td>\n",
       "    </tr>\n",
       "    <tr>\n",
       "      <th>1</th>\n",
       "      <td>B</td>\n",
       "      <td>298.0</td>\n",
       "      <td>0</td>\n",
       "      <td>0</td>\n",
       "      <td>50</td>\n",
       "      <td>4.74</td>\n",
       "      <td>0</td>\n",
       "      <td>N</td>\n",
       "    </tr>\n",
       "    <tr>\n",
       "      <th>2</th>\n",
       "      <td>A</td>\n",
       "      <td>298.0</td>\n",
       "      <td>0</td>\n",
       "      <td>0</td>\n",
       "      <td>0</td>\n",
       "      <td>7.00</td>\n",
       "      <td>1</td>\n",
       "      <td>CI_2</td>\n",
       "    </tr>\n",
       "    <tr>\n",
       "      <th>3</th>\n",
       "      <td>A</td>\n",
       "      <td>298.0</td>\n",
       "      <td>0</td>\n",
       "      <td>0</td>\n",
       "      <td>0</td>\n",
       "      <td>7.00</td>\n",
       "      <td>2</td>\n",
       "      <td>CI_1</td>\n",
       "    </tr>\n",
       "    <tr>\n",
       "      <th>4</th>\n",
       "      <td>A</td>\n",
       "      <td>298.0</td>\n",
       "      <td>0</td>\n",
       "      <td>0</td>\n",
       "      <td>0</td>\n",
       "      <td>7.00</td>\n",
       "      <td>2</td>\n",
       "      <td>CI_2</td>\n",
       "    </tr>\n",
       "  </tbody>\n",
       "</table>\n",
       "</div>"
      ],
      "text/plain": [
       "  X10: Category Method  X11: Temperature (K)  X12: [Salt*Valency]  \\\n",
       "0                    A                 298.0                    0   \n",
       "1                    B                 298.0                    0   \n",
       "2                    A                 298.0                    0   \n",
       "3                    A                 298.0                    0   \n",
       "4                    A                 298.0                    0   \n",
       "\n",
       "   X13: Category Salt type  X14: [Buffer] (mM)  X15: pH  X16: CI # X17: CI   \n",
       "0                        0                   0     7.00          0        N  \n",
       "1                        0                  50     4.74          0        N  \n",
       "2                        0                   0     7.00          1     CI_2  \n",
       "3                        0                   0     7.00          2     CI_1  \n",
       "4                        0                   0     7.00          2     CI_2  "
      ]
     },
     "execution_count": 4,
     "metadata": {},
     "output_type": "execute_result"
    }
   ],
   "source": [
    "x10_x17 = excel.iloc[:, 3:-3]\n",
    "x10_x17.head()"
   ]
  },
  {
   "cell_type": "code",
   "execution_count": 5,
   "metadata": {},
   "outputs": [],
   "source": [
    "master, master_names = prepare_master(x10_x17)"
   ]
  },
  {
   "cell_type": "code",
   "execution_count": 6,
   "metadata": {},
   "outputs": [],
   "source": [
    "K = master"
   ]
  },
  {
   "cell_type": "code",
   "execution_count": null,
   "metadata": {},
   "outputs": [],
   "source": []
  },
  {
   "cell_type": "code",
   "execution_count": 7,
   "metadata": {
    "scrolled": true
   },
   "outputs": [],
   "source": [
    "D = create_x6_matrix(L, max_dims=(50, 6))"
   ]
  },
  {
   "cell_type": "code",
   "execution_count": 8,
   "metadata": {},
   "outputs": [],
   "source": [
    "# D = sklearn.preprocessing.normalize(D)\n",
    "# D = sklearn.preprocessing.StandardScaler().fit_transform(D)\n",
    "# K = sklearn.preprocessing.StandardScaler().fit_transform(K)"
   ]
  },
  {
   "cell_type": "code",
   "execution_count": 9,
   "metadata": {},
   "outputs": [
    {
     "name": "stdout",
     "output_type": "stream",
     "text": [
      "(196, 300) (196,)\n"
     ]
    }
   ],
   "source": [
    "y = excel['Output: logK']\n",
    "print(D.shape, y.shape)"
   ]
  },
  {
   "cell_type": "code",
   "execution_count": 10,
   "metadata": {},
   "outputs": [
    {
     "name": "stdout",
     "output_type": "stream",
     "text": [
      "-1.6200500839767922\n"
     ]
    }
   ],
   "source": [
    "Gammas = [1e-4, 1e-2, 1e-1, 1, 10, 100, 'auto']\n",
    "Cs = [0.1, 1, 10, 20, 50]\n",
    "Epsilons = [1e-5, 1e-4, 1e-2, 1e-1, 1, 10]\n",
    "num_directions = [1, 2, 3]\n",
    "bandwidths = [1.0]\n",
    "lims = [1, 2, 5, 7, 10]\n",
    "up_lims = [1, 2, 5, 7, 10]\n",
    "muls = [0.1, 1, 2, 3, 5, 10]\n",
    "up_muls = [0.1, 1, 2, 3, 5, 10]\n",
    "\n",
    "best_params = [0,0,0,0,0]\n",
    "best_score = -float('inf')\n",
    "best_cvs = None\n",
    "\n",
    "up_lim = 0\n",
    "up_mul = 0\n",
    "\n",
    "\n",
    "clf = svm.SVR(kernel='rbf')\n",
    "# sws = compute_sample_weights(y, lim=lim, mul=mul)\n",
    "cvs = cross_val_score(clf, D, y, cv=5, scoring='neg_median_absolute_error')\n",
    "print(cvs.mean())"
   ]
  },
  {
   "cell_type": "code",
   "execution_count": null,
   "metadata": {},
   "outputs": [],
   "source": []
  },
  {
   "cell_type": "code",
   "execution_count": 11,
   "metadata": {},
   "outputs": [
    {
     "name": "stderr",
     "output_type": "stream",
     "text": [
      "/Users/tgebhart/.virtualenvs/biomarker/lib/python3.6/site-packages/sklearn/linear_model/base.py:509: RuntimeWarning: internal gelsd driver lwork query error, required iwork dimension not returned. This is likely the result of LAPACK bug 0038, fixed in LAPACK 3.2.2 (released July 21, 2010). Falling back to 'gelss' driver.\n",
      "  linalg.lstsq(X, y)\n"
     ]
    }
   ],
   "source": [
    "results = []\n",
    "for i in range(D.shape[0]):\n",
    "    mask = np.ones(y.shape, dtype=bool)\n",
    "    mask[i] = False\n",
    "    y_train = y[mask]\n",
    "    y_test = y[i]\n",
    "    K_train = np.delete(K, i, axis=0)\n",
    "    K_test = K[i].reshape(1,-1)\n",
    "    D_train = np.delete(D, i, axis=0)\n",
    "    D_test = D[i].reshape(1,-1)\n",
    "    DD_train = np.hstack((D_train, K_train))\n",
    "    DD_test = np.hstack((D_test, K_test))\n",
    "    \n",
    "    DD_train = D_train\n",
    "    DD_test = D_test\n",
    "    \n",
    "#     sws = compute_sample_weights(y_train, lim=3, mul=1)\n",
    "    \n",
    "#     clf = KernelRidge(kernel='rbf', alpha=0.0001)\n",
    "    clf = linear_model.LinearRegression()\n",
    "#     clf = DecisionTreeRegressor()\n",
    "\n",
    "#     clf.fit(D_train,y_train)\n",
    "#     clf = svm.LinearSVR(C=.1, epsilon=0.1)\n",
    "#     clf.fit(DD_train,y_train, sample_weight=sws)\n",
    "    clf.fit(DD_train,y_train)\n",
    "    prediction = clf.predict(DD_test)\n",
    "    results.append({'predicted':prediction[0], 'actual':y_test, 'key':keys[i]})"
   ]
  },
  {
   "cell_type": "code",
   "execution_count": 12,
   "metadata": {},
   "outputs": [
    {
     "name": "stdout",
     "output_type": "stream",
     "text": [
      "2.320108268260955\n"
     ]
    },
    {
     "data": {
      "text/html": [
       "<div>\n",
       "<style scoped>\n",
       "    .dataframe tbody tr th:only-of-type {\n",
       "        vertical-align: middle;\n",
       "    }\n",
       "\n",
       "    .dataframe tbody tr th {\n",
       "        vertical-align: top;\n",
       "    }\n",
       "\n",
       "    .dataframe thead th {\n",
       "        text-align: right;\n",
       "    }\n",
       "</style>\n",
       "<table border=\"1\" class=\"dataframe\">\n",
       "  <thead>\n",
       "    <tr style=\"text-align: right;\">\n",
       "      <th></th>\n",
       "      <th>actual</th>\n",
       "      <th>key</th>\n",
       "      <th>predicted</th>\n",
       "    </tr>\n",
       "  </thead>\n",
       "  <tbody>\n",
       "    <tr>\n",
       "      <th>176</th>\n",
       "      <td>7.14</td>\n",
       "      <td>199</td>\n",
       "      <td>1.074344e+10</td>\n",
       "    </tr>\n",
       "    <tr>\n",
       "      <th>177</th>\n",
       "      <td>6.83</td>\n",
       "      <td>200</td>\n",
       "      <td>4.373845e+00</td>\n",
       "    </tr>\n",
       "    <tr>\n",
       "      <th>178</th>\n",
       "      <td>5.95</td>\n",
       "      <td>201</td>\n",
       "      <td>-5.685879e+09</td>\n",
       "    </tr>\n",
       "    <tr>\n",
       "      <th>179</th>\n",
       "      <td>6.20</td>\n",
       "      <td>202</td>\n",
       "      <td>-3.225755e+09</td>\n",
       "    </tr>\n",
       "    <tr>\n",
       "      <th>180</th>\n",
       "      <td>5.11</td>\n",
       "      <td>203</td>\n",
       "      <td>1.363404e+10</td>\n",
       "    </tr>\n",
       "    <tr>\n",
       "      <th>181</th>\n",
       "      <td>5.93</td>\n",
       "      <td>204</td>\n",
       "      <td>1.139131e+08</td>\n",
       "    </tr>\n",
       "    <tr>\n",
       "      <th>182</th>\n",
       "      <td>4.30</td>\n",
       "      <td>207</td>\n",
       "      <td>3.953109e+08</td>\n",
       "    </tr>\n",
       "    <tr>\n",
       "      <th>183</th>\n",
       "      <td>9.71</td>\n",
       "      <td>208</td>\n",
       "      <td>2.341371e+10</td>\n",
       "    </tr>\n",
       "    <tr>\n",
       "      <th>184</th>\n",
       "      <td>10.78</td>\n",
       "      <td>209</td>\n",
       "      <td>1.010261e+00</td>\n",
       "    </tr>\n",
       "    <tr>\n",
       "      <th>185</th>\n",
       "      <td>8.23</td>\n",
       "      <td>210</td>\n",
       "      <td>-1.122354e+01</td>\n",
       "    </tr>\n",
       "    <tr>\n",
       "      <th>186</th>\n",
       "      <td>7.95</td>\n",
       "      <td>211</td>\n",
       "      <td>2.277905e+01</td>\n",
       "    </tr>\n",
       "    <tr>\n",
       "      <th>187</th>\n",
       "      <td>5.52</td>\n",
       "      <td>212</td>\n",
       "      <td>2.307860e+09</td>\n",
       "    </tr>\n",
       "    <tr>\n",
       "      <th>188</th>\n",
       "      <td>8.74</td>\n",
       "      <td>213</td>\n",
       "      <td>4.924846e+01</td>\n",
       "    </tr>\n",
       "    <tr>\n",
       "      <th>189</th>\n",
       "      <td>8.14</td>\n",
       "      <td>214</td>\n",
       "      <td>1.780432e+01</td>\n",
       "    </tr>\n",
       "    <tr>\n",
       "      <th>190</th>\n",
       "      <td>4.00</td>\n",
       "      <td>215</td>\n",
       "      <td>5.014915e+00</td>\n",
       "    </tr>\n",
       "    <tr>\n",
       "      <th>191</th>\n",
       "      <td>6.54</td>\n",
       "      <td>216</td>\n",
       "      <td>-4.623402e+02</td>\n",
       "    </tr>\n",
       "    <tr>\n",
       "      <th>192</th>\n",
       "      <td>0.00</td>\n",
       "      <td>217</td>\n",
       "      <td>-2.437957e+11</td>\n",
       "    </tr>\n",
       "    <tr>\n",
       "      <th>193</th>\n",
       "      <td>0.00</td>\n",
       "      <td>218</td>\n",
       "      <td>4.430570e+00</td>\n",
       "    </tr>\n",
       "    <tr>\n",
       "      <th>194</th>\n",
       "      <td>0.00</td>\n",
       "      <td>219</td>\n",
       "      <td>-4.323485e+12</td>\n",
       "    </tr>\n",
       "    <tr>\n",
       "      <th>195</th>\n",
       "      <td>0.00</td>\n",
       "      <td>220</td>\n",
       "      <td>-1.322514e+09</td>\n",
       "    </tr>\n",
       "  </tbody>\n",
       "</table>\n",
       "</div>"
      ],
      "text/plain": [
       "     actual  key     predicted\n",
       "176    7.14  199  1.074344e+10\n",
       "177    6.83  200  4.373845e+00\n",
       "178    5.95  201 -5.685879e+09\n",
       "179    6.20  202 -3.225755e+09\n",
       "180    5.11  203  1.363404e+10\n",
       "181    5.93  204  1.139131e+08\n",
       "182    4.30  207  3.953109e+08\n",
       "183    9.71  208  2.341371e+10\n",
       "184   10.78  209  1.010261e+00\n",
       "185    8.23  210 -1.122354e+01\n",
       "186    7.95  211  2.277905e+01\n",
       "187    5.52  212  2.307860e+09\n",
       "188    8.74  213  4.924846e+01\n",
       "189    8.14  214  1.780432e+01\n",
       "190    4.00  215  5.014915e+00\n",
       "191    6.54  216 -4.623402e+02\n",
       "192    0.00  217 -2.437957e+11\n",
       "193    0.00  218  4.430570e+00\n",
       "194    0.00  219 -4.323485e+12\n",
       "195    0.00  220 -1.322514e+09"
      ]
     },
     "execution_count": 12,
     "metadata": {},
     "output_type": "execute_result"
    }
   ],
   "source": [
    "res_df = pd.DataFrame(results)\n",
    "print(np.median(np.abs(res_df['predicted'] - res_df['actual'])))\n",
    "res_df.tail(20)"
   ]
  },
  {
   "cell_type": "code",
   "execution_count": 13,
   "metadata": {},
   "outputs": [],
   "source": [
    "res_df = res_df[(res_df['predicted'] < 20) & (res_df['predicted'] > -10)]"
   ]
  },
  {
   "cell_type": "code",
   "execution_count": 14,
   "metadata": {},
   "outputs": [],
   "source": [
    "# print(np.median(np.abs(res_df['predicted'] - res_df['actual'])))"
   ]
  },
  {
   "cell_type": "code",
   "execution_count": null,
   "metadata": {},
   "outputs": [],
   "source": []
  },
  {
   "cell_type": "code",
   "execution_count": 15,
   "metadata": {},
   "outputs": [
    {
     "data": {
      "text/plain": [
       "Text(0,0.5,'Predicted logK')"
      ]
     },
     "execution_count": 15,
     "metadata": {},
     "output_type": "execute_result"
    },
    {
     "data": {
      "image/png": "[encoded data removed]",
      "text/plain": [
       "<Figure size 432x288 with 1 Axes>"
      ]
     },
     "metadata": {},
     "output_type": "display_data"
    }
   ],
   "source": [
    "colors = ['blue' if (row['actual'] < 2) else 'orange' if row['key'] == 216 else 'silver' for idx, row in res_df.iterrows()]\n",
    "plt.scatter(res_df['actual'], res_df['predicted'], color=colors)\n",
    "plt.plot([0,16],[0,16], 'r--')\n",
    "plt.plot(np.unique(res_df['actual']), np.poly1d(np.polyfit(res_df['actual'], res_df['predicted'], 1))(np.unique(res_df['actual'])), 'g--')\n",
    "plt.xlabel('Actual logK')\n",
    "plt.ylabel('Predicted logK')"
   ]
  },
  {
   "cell_type": "code",
   "execution_count": 16,
   "metadata": {},
   "outputs": [],
   "source": [
    "# res_df.to_csv('quick_dump.csv')"
   ]
  },
  {
   "cell_type": "code",
   "execution_count": null,
   "metadata": {},
   "outputs": [],
   "source": []
  }
 ],
 "metadata": {
  "kernelspec": {
   "display_name": "Python 3",
   "language": "python",
   "name": "python3"
  },
  "language_info": {
   "codemirror_mode": {
    "name": "ipython",
    "version": 3
   },
   "file_extension": ".py",
   "mimetype": "text/x-python",
   "name": "python",
   "nbconvert_exporter": "python",
   "pygments_lexer": "ipython3",
   "version": "3.6.4"
  }
 },
 "nbformat": 4,
 "nbformat_minor": 2
}
